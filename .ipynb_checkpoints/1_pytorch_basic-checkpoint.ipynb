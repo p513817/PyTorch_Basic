{
 "cells": [
  {
   "cell_type": "code",
   "execution_count": 16,
   "metadata": {},
   "outputs": [
    {
     "name": "stdout",
     "output_type": "stream",
     "text": [
      "LIB VERSION:\n",
      "\n",
      "torch      | numpy      | matplotlib\n",
      "1.6.0      | 1.19.1     | 3.2.2     \n"
     ]
    }
   ],
   "source": [
    "import torch\n",
    "import numpy as np\n",
    "import matplotlib as mpl\n",
    "\n",
    "print('LIB VERSION:\\n')\n",
    "\n",
    "print(\"{:10} | {:10} | {:10}\".format('torch', 'numpy', 'matplotlib'))\n",
    "print(\"{:10} | {:10} | {:10}\".format(torch.__version__, np.__version__, mpl.__version__))"
   ]
  },
  {
   "cell_type": "code",
   "execution_count": 17,
   "metadata": {},
   "outputs": [
    {
     "name": "stdout",
     "output_type": "stream",
     "text": [
      "PYTORCH INFO \n",
      "VERSION:1.6.0 , CUDA:None\n"
     ]
    }
   ],
   "source": [
    "print(\"PYTORCH INFO \\nVERSION:{} , CUDA:{}\".format(torch.__version__, torch.version.cuda))"
   ]
  },
  {
   "cell_type": "code",
   "execution_count": 3,
   "metadata": {},
   "outputs": [
    {
     "name": "stdout",
     "output_type": "stream",
     "text": [
      "Example: \n",
      "\n",
      "tensor([[1., 1.],\n",
      "        [1., 1.],\n",
      "        [1., 1.]])\n",
      "\n",
      "tensor([[0., 0., 0.]])\n",
      "\n",
      "tensor([[0.3641, 0.4488, 0.1141]])\n",
      "\n",
      "tensor([[-1.7902, -1.4988, -0.3860, -0.9777, -0.7403]])\n"
     ]
    }
   ],
   "source": [
    "# 宣告 Tensor\n",
    "val_1 = torch.Tensor([[1,1],[1,1],[1,1]])\n",
    "\n",
    "# 宣告一個維度 1 x 3 的矩陣，數值都為 0\n",
    "val_2 = torch.zeros(1,3)     \n",
    "\n",
    "# 宣告一個維度 1 x 3 的矩陣，數值為 0 ~ 1 之間亂數 \n",
    "val_3 = torch.rand(1,3)    \n",
    "\n",
    "# 宣告一個維度 1 x 5 的矩陣，數值為 高斯分佈 的亂數 \n",
    "val_4 = torch.randn(1,5)\n",
    "\n",
    "# 印出來\n",
    "print(\"Example: \\n\\n{}\\n\\n{}\\n\\n{}\\n\\n{}\".format(val_1, val_2, val_3, val_4))\n"
   ]
  },
  {
   "cell_type": "code",
   "execution_count": 4,
   "metadata": {},
   "outputs": [
    {
     "name": "stdout",
     "output_type": "stream",
     "text": [
      "Numpy: [2 2 2] , <class 'numpy.ndarray'>\n",
      "\n",
      "Np to Tensor: tensor([2, 2, 2], dtype=torch.int32) , <class 'torch.Tensor'>\n",
      "\n",
      "Tensor to Np: [2 2 2] , <class 'numpy.ndarray'>\n",
      "\n"
     ]
    }
   ],
   "source": [
    "# 從 Numpy 轉換成 Tensor，從 Tensor 轉成 Numpy\n",
    "numpy = np.array([2,2,2])\n",
    "tensor = torch.tensor(numpy)\n",
    "tensor2np = tensor.numpy()\n",
    "\n",
    "print(\"Numpy: {} , {}\\n\".format(numpy, type(numpy)))\n",
    "print(\"Np to Tensor: {} , {}\\n\".format(tensor, type(tensor)))\n",
    "print(\"Tensor to Np: {} , {}\\n\".format(tensor2np,  type(tensor2np)))"
   ]
  },
  {
   "cell_type": "code",
   "execution_count": 5,
   "metadata": {},
   "outputs": [
    {
     "ename": "AssertionError",
     "evalue": "Torch not compiled with CUDA enabled",
     "output_type": "error",
     "traceback": [
      "\u001b[1;31m---------------------------------------------------------------------------\u001b[0m",
      "\u001b[1;31mAssertionError\u001b[0m                            Traceback (most recent call last)",
      "\u001b[1;32m<ipython-input-5-a28c854867fc>\u001b[0m in \u001b[0;36m<module>\u001b[1;34m\u001b[0m\n\u001b[0;32m      1\u001b[0m \u001b[1;31m# 將 Tensor 丟進 GPU 訓練\u001b[0m\u001b[1;33m\u001b[0m\u001b[1;33m\u001b[0m\u001b[1;33m\u001b[0m\u001b[0m\n\u001b[1;32m----> 2\u001b[1;33m \u001b[0mtensor_gpu_1\u001b[0m \u001b[1;33m=\u001b[0m \u001b[0mtensor\u001b[0m\u001b[1;33m.\u001b[0m\u001b[0mcuda\u001b[0m\u001b[1;33m(\u001b[0m\u001b[1;33m)\u001b[0m\u001b[1;33m\u001b[0m\u001b[1;33m\u001b[0m\u001b[0m\n\u001b[0m\u001b[0;32m      3\u001b[0m \u001b[0mtensor_gpu_2\u001b[0m \u001b[1;33m=\u001b[0m \u001b[0mtensor\u001b[0m\u001b[1;33m.\u001b[0m\u001b[0mto\u001b[0m\u001b[1;33m(\u001b[0m\u001b[1;34m'cuda'\u001b[0m\u001b[1;33m)\u001b[0m\u001b[1;33m\u001b[0m\u001b[1;33m\u001b[0m\u001b[0m\n\u001b[0;32m      4\u001b[0m \u001b[1;33m\u001b[0m\u001b[0m\n\u001b[0;32m      5\u001b[0m \u001b[1;31m# 將 Tensor 丟回 CPU 訓練\u001b[0m\u001b[1;33m\u001b[0m\u001b[1;33m\u001b[0m\u001b[1;33m\u001b[0m\u001b[0m\n",
      "\u001b[1;32m~\\anaconda3\\envs\\torch\\lib\\site-packages\\torch\\cuda\\__init__.py\u001b[0m in \u001b[0;36m_lazy_init\u001b[1;34m()\u001b[0m\n\u001b[0;32m    184\u001b[0m             raise RuntimeError(\n\u001b[0;32m    185\u001b[0m                 \"Cannot re-initialize CUDA in forked subprocess. \" + msg)\n\u001b[1;32m--> 186\u001b[1;33m         \u001b[0m_check_driver\u001b[0m\u001b[1;33m(\u001b[0m\u001b[1;33m)\u001b[0m\u001b[1;33m\u001b[0m\u001b[1;33m\u001b[0m\u001b[0m\n\u001b[0m\u001b[0;32m    187\u001b[0m         \u001b[1;32mif\u001b[0m \u001b[0m_cudart\u001b[0m \u001b[1;32mis\u001b[0m \u001b[1;32mNone\u001b[0m\u001b[1;33m:\u001b[0m\u001b[1;33m\u001b[0m\u001b[1;33m\u001b[0m\u001b[0m\n\u001b[0;32m    188\u001b[0m             raise AssertionError(\n",
      "\u001b[1;32m~\\anaconda3\\envs\\torch\\lib\\site-packages\\torch\\cuda\\__init__.py\u001b[0m in \u001b[0;36m_check_driver\u001b[1;34m()\u001b[0m\n\u001b[0;32m     59\u001b[0m \u001b[1;32mdef\u001b[0m \u001b[0m_check_driver\u001b[0m\u001b[1;33m(\u001b[0m\u001b[1;33m)\u001b[0m\u001b[1;33m:\u001b[0m\u001b[1;33m\u001b[0m\u001b[1;33m\u001b[0m\u001b[0m\n\u001b[0;32m     60\u001b[0m     \u001b[1;32mif\u001b[0m \u001b[1;32mnot\u001b[0m \u001b[0mhasattr\u001b[0m\u001b[1;33m(\u001b[0m\u001b[0mtorch\u001b[0m\u001b[1;33m.\u001b[0m\u001b[0m_C\u001b[0m\u001b[1;33m,\u001b[0m \u001b[1;34m'_cuda_isDriverSufficient'\u001b[0m\u001b[1;33m)\u001b[0m\u001b[1;33m:\u001b[0m\u001b[1;33m\u001b[0m\u001b[1;33m\u001b[0m\u001b[0m\n\u001b[1;32m---> 61\u001b[1;33m         \u001b[1;32mraise\u001b[0m \u001b[0mAssertionError\u001b[0m\u001b[1;33m(\u001b[0m\u001b[1;34m\"Torch not compiled with CUDA enabled\"\u001b[0m\u001b[1;33m)\u001b[0m\u001b[1;33m\u001b[0m\u001b[1;33m\u001b[0m\u001b[0m\n\u001b[0m\u001b[0;32m     62\u001b[0m     \u001b[1;32mif\u001b[0m \u001b[1;32mnot\u001b[0m \u001b[0mtorch\u001b[0m\u001b[1;33m.\u001b[0m\u001b[0m_C\u001b[0m\u001b[1;33m.\u001b[0m\u001b[0m_cuda_isDriverSufficient\u001b[0m\u001b[1;33m(\u001b[0m\u001b[1;33m)\u001b[0m\u001b[1;33m:\u001b[0m\u001b[1;33m\u001b[0m\u001b[1;33m\u001b[0m\u001b[0m\n\u001b[0;32m     63\u001b[0m         \u001b[1;32mif\u001b[0m \u001b[0mtorch\u001b[0m\u001b[1;33m.\u001b[0m\u001b[0m_C\u001b[0m\u001b[1;33m.\u001b[0m\u001b[0m_cuda_getDriverVersion\u001b[0m\u001b[1;33m(\u001b[0m\u001b[1;33m)\u001b[0m \u001b[1;33m==\u001b[0m \u001b[1;36m0\u001b[0m\u001b[1;33m:\u001b[0m\u001b[1;33m\u001b[0m\u001b[1;33m\u001b[0m\u001b[0m\n",
      "\u001b[1;31mAssertionError\u001b[0m: Torch not compiled with CUDA enabled"
     ]
    }
   ],
   "source": [
    "# 將 Tensor 丟進 GPU 訓練\n",
    "tensor_gpu_1 = tensor.cuda()\n",
    "tensor_gpu_2 = tensor.to('cuda')\n",
    "\n",
    "# 將 Tensor 丟回 CPU 訓練\n",
    "tensor_cpu_1 = tensor_gpu_1.cpu()\n",
    "tensor_cpu_2 = tensor.to('cpu')\n",
    "\n",
    "# 從 GPU 中取得 Tensor 並轉成 Numpy\n",
    "np_from_gpu = tensor_gpu_1.cpu().numpy()"
   ]
  },
  {
   "cell_type": "code",
   "execution_count": 6,
   "metadata": {},
   "outputs": [
    {
     "name": "stdout",
     "output_type": "stream",
     "text": [
      "x     = tensor([[0.6693, 0.1922, 0.6550, 0.8633, 0.7376, 0.5298]])\n",
      "y     = tensor([[0.9730, 0.2252, 0.6750, 0.2221, 0.0943, 0.0652]])\n",
      "\n",
      "x+y   = tensor([[1.6424, 0.4174, 1.3300, 1.0854, 0.8319, 0.5949]]) \n",
      "\n",
      "x-y   = tensor([[-0.3037, -0.0331, -0.0199,  0.6411,  0.6432,  0.4646]]) \n",
      "\n",
      "x*y   = tensor([[0.6513, 0.0433, 0.4421, 0.1917, 0.0696, 0.0345]]) \n",
      "\n",
      "x/y   = tensor([[0.6879, 0.8533, 0.9705, 3.8865, 7.8190, 8.1298]]) \n",
      "\n"
     ]
    }
   ],
   "source": [
    "# 基本數學計算\n",
    "x = torch.rand(1,6)\n",
    "y = torch.rand(1,6)\n",
    "\n",
    "print(\"{:5} = {}\\n{:5} = {}\\n\".format('x', x, 'y', y))\n",
    "print(\"{:5} = {} \\n\".format('x+y', x+y))\n",
    "print(\"{:5} = {} \\n\".format('x-y', x-y))\n",
    "print(\"{:5} = {} \\n\".format('x*y', x*y))\n",
    "print(\"{:5} = {} \\n\".format('x/y', x/y))"
   ]
  },
  {
   "cell_type": "code",
   "execution_count": 8,
   "metadata": {},
   "outputs": [
    {
     "name": "stdout",
     "output_type": "stream",
     "text": [
      "x shape    : torch.Size([1, 6])\n",
      "y shape    : torch.Size([1, 6])\n",
      "\n",
      "horizontal : torch.Size([2, 6])\n",
      "vertical   : torch.Size([1, 12])\n",
      "\n",
      "x reshape  : torch.Size([2, 3])\n",
      "y reshape  : torch.Size([6, 1])\n",
      "y reshape2 : torch.Size([3, 2])\n",
      "\n"
     ]
    }
   ],
   "source": [
    "cat_hor = torch.cat([x,y])        # 垂直合併\n",
    "cat_ver = torch.cat([x,y], 1)     # 水平合併\n",
    "x_reshape = x.view(2,3)           # 將 x 朔形成 (2,3)\n",
    "y_reshape = y.view(6,1)           # 將 y 朔形成 (6,1)\n",
    "y_reshape_2 = y.view(-1,2)        # 將 y 朔形成 (任意大小,2)\n",
    "\n",
    "print(\"x shape    : {}\\ny shape    : {}\\n\".format(x.size(), y.size()))\n",
    "\n",
    "print(\"horizontal : {}\".format(cat_hor.shape))\n",
    "print(\"vertical   : {}\\n\".format(cat_ver.shape))\n",
    "\n",
    "print(\"x reshape  : {}\".format(x_reshape.shape))\n",
    "print(\"y reshape  : {}\".format(y_reshape.shape))\n",
    "print(\"y reshape2 : {}\\n\".format(y_reshape_2.shape))"
   ]
  },
  {
   "cell_type": "code",
   "execution_count": 9,
   "metadata": {},
   "outputs": [
    {
     "name": "stdout",
     "output_type": "stream",
     "text": [
      "a : \n",
      "tensor([[0.0929, 0.0223, 0.3118, 0.1099, 0.2261],\n",
      "        [0.3880, 0.4072, 0.6792, 0.5855, 0.6967]])\n",
      "\n",
      "[1] a shape     : torch.Size([2, 5])\n",
      "[2] find max    : 0.6967037916183472\n",
      "[3] sum dim=0   : tensor([0.4809, 0.4295, 0.9910, 0.6954, 0.9228])\n",
      "[4] sum dim=1   : tensor([0.7630, 2.7566])\n",
      "[5] get mean    : 0.3519594669342041\n",
      "[6] L2  norm    : 1.332446813583374\n"
     ]
    }
   ],
   "source": [
    "a = torch.rand(2,5)                # 宣告一個維度 2 x 5 的張量\n",
    "a_max = torch.max(a)               # 尋找其張量最大數值\n",
    "a_sum_hor = torch.sum(a, dim=1)    # 水平維度做相加\n",
    "a_sum_ver = torch.sum(a, dim=0)    # 垂直維度做相加\n",
    "a_mean = torch.mean(a)             # 取平均值\n",
    "a_norm = torch.norm(a)             # 求範數。預設是 L2，公式為「平方合開根號」\n",
    "\n",
    "print(\"{} : \\n{}\\n\".format('a' , a))\n",
    "print(\"{:15} : {}\".format('[1] a shape' , a.size()))\n",
    "print(\"{:15} : {}\".format('[2] find max' , a_max))\n",
    "print(\"{:15} : {}\".format('[3] sum dim=0' , a_sum_ver))\n",
    "print(\"{:15} : {}\".format('[4] sum dim=1' , a_sum_hor))\n",
    "print(\"{:15} : {}\".format('[5] get mean' , a_mean))\n",
    "print(\"{:15} : {}\".format('[6] L2  norm' , a_norm))\n"
   ]
  },
  {
   "cell_type": "code",
   "execution_count": 43,
   "metadata": {},
   "outputs": [
    {
     "name": "stdout",
     "output_type": "stream",
     "text": [
      "tensor(3.)\n",
      "tensor(3., requires_grad=True)\n",
      "tensor(3.)\n"
     ]
    }
   ],
   "source": [
    "a = torch.tensor(3.)  # 記得張量必須是float\n",
    "a_grad = torch.tensor(3., requires_grad=True)\n",
    "a_no_grad = torch.tensor(3., requires_grad=False)\n",
    "\n",
    "print(a)\n",
    "print(a_grad)\n",
    "print(a_no_grad)"
   ]
  },
  {
   "cell_type": "code",
   "execution_count": 56,
   "metadata": {},
   "outputs": [
    {
     "name": "stdout",
     "output_type": "stream",
     "text": [
      "tensor(10.)\n"
     ]
    }
   ],
   "source": [
    "import torch \n",
    "\n",
    "x = torch.tensor(5., requires_grad = True)\n",
    "\n",
    "y = 10*x + 5\n",
    "\n",
    "y.backward()\n",
    "\n",
    "print(x.grad)"
   ]
  },
  {
   "cell_type": "code",
   "execution_count": 40,
   "metadata": {
    "scrolled": true
   },
   "outputs": [
    {
     "name": "stdout",
     "output_type": "stream",
     "text": [
      "PyTorch計算的BP : -18.0\n",
      "實際上的BP : -18.0\n"
     ]
    }
   ],
   "source": [
    "import torch \n",
    "\n",
    "def func(a):\n",
    "    w1 = torch.tensor(3., requires_grad = True)\n",
    "    w2 = torch.tensor(3., requires_grad = True)\n",
    "    w3 = torch.tensor(3., requires_grad = True)\n",
    "    w4 = torch.tensor(3., requires_grad = True)\n",
    "\n",
    "    b = w1*a \n",
    "    c = w2*a\n",
    "    d = w3*b + w4*c \n",
    "    L = (10 - d)\n",
    "    \n",
    "    true_bp = -1 * (w1*w3*1 + w2*w4*1)\n",
    "    \n",
    "    return L, true_bp\n",
    "\n",
    "a = torch.tensor(5., requires_grad = True)\n",
    "\n",
    "L, true_backward = func(a)\n",
    "L.backward()\n",
    "print('PyTorch計算的BP : {}\\n實際上的BP : {}'.format(a.grad, true_backward))"
   ]
  },
  {
   "cell_type": "code",
   "execution_count": 34,
   "metadata": {},
   "outputs": [
    {
     "name": "stdout",
     "output_type": "stream",
     "text": [
      "torch.Size([20, 1]) torch.Size([20, 1])\n"
     ]
    },
    {
     "data": {
      "image/png": "[encoded data removed]",
      "text/plain": [
       "<Figure size 600x400 with 1 Axes>"
      ]
     },
     "metadata": {
      "needs_background": "light"
     },
     "output_type": "display_data"
    }
   ],
   "source": [
    "import torch\n",
    "import numpy as np\n",
    "import matplotlib.pyplot as plt\n",
    "\n",
    "''' 設定好 輸入、權重、輸出 '''\n",
    "x = torch.unsqueeze(torch.linspace(-1, 1, 20), 1)    # 設定 10個點介於 -1~1 之間並將維度增加 [10] -> [10,1]\n",
    "w = torch.tensor([10.])         # 固定 w 為 ground truth\n",
    "b = torch.tensor([3.])          # 固定 b 為 ground truth\n",
    "y = w * x + b + torch.randn(x.shape)*0.4             # 簡單的線性方程，取得 10 個點的 y 座標 再加上一點雜訊\n",
    "\n",
    "print(x.shape, y.shape)\n",
    "\n",
    "''' 畫圖 '''\n",
    "plt.figure(dpi=100)    # 宣告一個圖片 dpi 設為 100\n",
    "plt.scatter(x, y, color= 'r')    # 將正確答案先畫出來標示為紅色\n",
    "plt.show()"
   ]
  },
  {
   "cell_type": "code",
   "execution_count": 41,
   "metadata": {
    "scrolled": false
   },
   "outputs": [
    {
     "name": "stdout",
     "output_type": "stream",
     "text": [
      "[00/50] loss:41.458 \t w_:tensor([2.0638]) \t b_:tensor([0.0252])\n",
      "[10/50] loss:6.307 \t w_:tensor([6.3483]) \t b_:tensor([2.6702])\n",
      "[20/50] loss:1.479 \t w_:tensor([8.3412]) \t b_:tensor([2.9542])\n",
      "[30/50] loss:0.467 \t w_:tensor([9.2682]) \t b_:tensor([2.9847])\n",
      "[40/50] loss:0.248 \t w_:tensor([9.6994]) \t b_:tensor([2.9879])\n",
      "[50/50] loss:0.201 \t w_:tensor([9.8999]) \t b_:tensor([2.9883])\n"
     ]
    },
    {
     "data": {
      "image/png": "[encoded data removed]",
      "text/plain": [
       "<Figure size 600x400 with 1 Axes>"
      ]
     },
     "metadata": {
      "needs_background": "light"
     },
     "output_type": "display_data"
    }
   ],
   "source": [
    "import torch\n",
    "import numpy as np\n",
    "import matplotlib.pyplot as plt\n",
    "\n",
    "''' 畫圖 '''\n",
    "plt.figure(dpi=100)    # 宣告一個圖片 dpi 設為 100\n",
    "plt.scatter(x, y, color= 'r')    # 將正確答案先畫出來標示為紅色\n",
    "attributes = ['--k','--b','--c','--m','--y','--g', '--r']    # 顏色線條參數\n",
    "\n",
    "''' 初始化參數 '''\n",
    "x_ = torch.randn(10,1)                     # 宣告一組新的 x_ 等等來拿預測用\n",
    "w_ = torch.randn(1, requires_grad=True)    # 隨機產生 w_ 讓神經網路訓練，目的是找到正確的數值\n",
    "b_ = torch.randn(1, requires_grad=True)    # 隨機產生 b_ 讓神經網路訓練，目的是找到正確的數值\n",
    "\n",
    "epochs = 50                                # 總共跑 N 次迭代\n",
    "log_time = epochs/5                        # 總共會記錄 5 次 loss \n",
    "lr = 0.1                                   # lr 是學習率\n",
    "\n",
    "for i in range(epochs + 1):\n",
    "    \n",
    "    y_ = x * w_ + b_                    # 利用 w_ 計算新的 y_\n",
    "\n",
    "    loss = ((y - y_)**2).mean()    # 利用 Mean Suqre Error 計算 Loss\n",
    "    \n",
    "    loss.backward()                # 丟進反向傳遞獲得梯度\n",
    "    \n",
    "    with torch.no_grad():          # 避免計算圖追蹤導數，也可以減少運算量\n",
    "        \n",
    "        w_ -= lr * w_.grad         # 更新權重值\n",
    "        b_ -= lr * b_.grad\n",
    "        \n",
    "        w_.grad.zero_()            # 清空梯度，也是避免重複計算\n",
    "        b_.grad.zero_()\n",
    "        \n",
    "        if(i%log_time==0):                # 每 5 次 印出 loss 跟 w_ 的狀況\n",
    "            \n",
    "            print('[{:>02}/{}] loss:{:5.3f} \\t w_:{} \\t b_:{}'.format(i,epochs,\n",
    "                                                               loss.data,\n",
    "                                                               w_.data,\n",
    "                                                               b_.data))    # {:5.3f} 總寬度 5 小數點後 3 位\n",
    "            \n",
    "            plt.plot(x_, x_ * w_ + b_ , attributes[int(i/log_time)], label=str(i))    # 畫出曲線\n",
    "\n",
    "plt.legend(loc='best')    # 自動調整最佳位置\n",
    "plt.show()"
   ]
  },
  {
   "cell_type": "markdown",
   "metadata": {},
   "source": [
    "# 動畫"
   ]
  },
  {
   "cell_type": "code",
   "execution_count": 73,
   "metadata": {},
   "outputs": [
    {
     "name": "stdout",
     "output_type": "stream",
     "text": [
      "[00/50] loss:45.710 \t w_:tensor([0.0884]) \t b_:tensor([1.6724])\n",
      "[01/50] loss:38.658 \t w_:tensor([0.8242]) \t b_:tensor([1.9356])\n",
      "[02/50] loss:32.820 \t w_:tensor([1.5058]) \t b_:tensor([2.1461])\n",
      "[03/50] loss:27.947 \t w_:tensor([2.1371]) \t b_:tensor([2.3146])\n",
      "[04/50] loss:23.852 \t w_:tensor([2.7220]) \t b_:tensor([2.4493])\n",
      "[05/50] loss:20.394 \t w_:tensor([3.2637]) \t b_:tensor([2.5571])\n",
      "[06/50] loss:17.463 \t w_:tensor([3.7656]) \t b_:tensor([2.6434])\n",
      "[07/50] loss:14.970 \t w_:tensor([4.2304]) \t b_:tensor([2.7123])\n",
      "[08/50] loss:12.846 \t w_:tensor([4.6610]) \t b_:tensor([2.7675])\n",
      "[09/50] loss:11.033 \t w_:tensor([5.0599]) \t b_:tensor([2.8117])\n",
      "[10/50] loss:9.483 \t w_:tensor([5.4294]) \t b_:tensor([2.8470])\n",
      "[11/50] loss:8.157 \t w_:tensor([5.7717]) \t b_:tensor([2.8753])\n",
      "[12/50] loss:7.021 \t w_:tensor([6.0887]) \t b_:tensor([2.8979])\n",
      "[13/50] loss:6.049 \t w_:tensor([6.3824]) \t b_:tensor([2.9160])\n",
      "[14/50] loss:5.215 \t w_:tensor([6.6544]) \t b_:tensor([2.9304])\n",
      "[15/50] loss:4.500 \t w_:tensor([6.9064]) \t b_:tensor([2.9420])\n",
      "[16/50] loss:3.887 \t w_:tensor([7.1398]) \t b_:tensor([2.9513])\n",
      "[17/50] loss:3.362 \t w_:tensor([7.3561]) \t b_:tensor([2.9587])\n",
      "[18/50] loss:2.911 \t w_:tensor([7.5564]) \t b_:tensor([2.9646])\n",
      "[19/50] loss:2.524 \t w_:tensor([7.7419]) \t b_:tensor([2.9694])\n",
      "[20/50] loss:2.193 \t w_:tensor([7.9138]) \t b_:tensor([2.9732])\n",
      "[21/50] loss:1.908 \t w_:tensor([8.0730]) \t b_:tensor([2.9762])\n",
      "[22/50] loss:1.664 \t w_:tensor([8.2204]) \t b_:tensor([2.9786])\n",
      "[23/50] loss:1.454 \t w_:tensor([8.3570]) \t b_:tensor([2.9806])\n",
      "[24/50] loss:1.274 \t w_:tensor([8.4836]) \t b_:tensor([2.9821])\n",
      "[25/50] loss:1.120 \t w_:tensor([8.6008]) \t b_:tensor([2.9834])\n",
      "[26/50] loss:0.988 \t w_:tensor([8.7094]) \t b_:tensor([2.9843])\n",
      "[27/50] loss:0.874 \t w_:tensor([8.8100]) \t b_:tensor([2.9851])\n",
      "[28/50] loss:0.777 \t w_:tensor([8.9031]) \t b_:tensor([2.9858])\n",
      "[29/50] loss:0.693 \t w_:tensor([8.9894]) \t b_:tensor([2.9863])\n",
      "[30/50] loss:0.622 \t w_:tensor([9.0694]) \t b_:tensor([2.9867])\n",
      "[31/50] loss:0.560 \t w_:tensor([9.1434]) \t b_:tensor([2.9870])\n",
      "[32/50] loss:0.507 \t w_:tensor([9.2120]) \t b_:tensor([2.9873])\n",
      "[33/50] loss:0.462 \t w_:tensor([9.2756]) \t b_:tensor([2.9875])\n",
      "[34/50] loss:0.423 \t w_:tensor([9.3344]) \t b_:tensor([2.9877])\n",
      "[35/50] loss:0.390 \t w_:tensor([9.3889]) \t b_:tensor([2.9878])\n",
      "[36/50] loss:0.361 \t w_:tensor([9.4394]) \t b_:tensor([2.9879])\n",
      "[37/50] loss:0.336 \t w_:tensor([9.4862]) \t b_:tensor([2.9880])\n",
      "[38/50] loss:0.315 \t w_:tensor([9.5296]) \t b_:tensor([2.9880])\n",
      "[39/50] loss:0.297 \t w_:tensor([9.5697]) \t b_:tensor([2.9881])\n",
      "[40/50] loss:0.282 \t w_:tensor([9.6069]) \t b_:tensor([2.9881])\n",
      "[41/50] loss:0.268 \t w_:tensor([9.6413]) \t b_:tensor([2.9882])\n",
      "[42/50] loss:0.257 \t w_:tensor([9.6732]) \t b_:tensor([2.9882])\n",
      "[43/50] loss:0.247 \t w_:tensor([9.7028]) \t b_:tensor([2.9882])\n",
      "[44/50] loss:0.239 \t w_:tensor([9.7302]) \t b_:tensor([2.9883])\n",
      "[45/50] loss:0.232 \t w_:tensor([9.7555]) \t b_:tensor([2.9883])\n",
      "[46/50] loss:0.225 \t w_:tensor([9.7790]) \t b_:tensor([2.9883])\n",
      "[47/50] loss:0.220 \t w_:tensor([9.8008]) \t b_:tensor([2.9883])\n",
      "[48/50] loss:0.215 \t w_:tensor([9.8209]) \t b_:tensor([2.9883])\n",
      "[49/50] loss:0.212 \t w_:tensor([9.8396]) \t b_:tensor([2.9883])\n",
      "[50/50] loss:0.208 \t w_:tensor([9.8569]) \t b_:tensor([2.9883])\n"
     ]
    },
    {
     "data": {
      "image/png": "[encoded data removed]",
      "text/plain": [
       "<Figure size 900x600 with 1 Axes>"
      ]
     },
     "metadata": {
      "needs_background": "light"
     },
     "output_type": "display_data"
    }
   ],
   "source": [
    "import torch\n",
    "import numpy as np\n",
    "import matplotlib.pyplot as plt\n",
    "import matplotlib.animation as animation\n",
    "\n",
    "''' gif 用'''\n",
    "fig = plt.figure(dpi=150)    # 宣告一個圖片 dpi 設為 100\n",
    "plt.scatter(x, y, color= 'r')    # 將正確答案先畫出來標示為紅色\n",
    "attributes = ['--k','--b','--c','--m','--y','--g', '--r']    # 顏色線條參數\n",
    "imgs=[]\n",
    "\n",
    "''' 初始化參數 '''\n",
    "x_ = torch.unsqueeze(torch.linspace(-1,1,10), 1)         # 宣告一組新的 x_ 等等來拿預測用\n",
    "w_ = torch.randn(1, requires_grad=True)    # 隨機產生 w_ 讓神經網路訓練，目的是找到正確的數值\n",
    "b_ = torch.randn(1, requires_grad=True)    # 隨機產生 b_ 讓神經網路訓練，目的是找到正確的數值\n",
    "\n",
    "epochs = 50                                # 總共跑 N 次迭代\n",
    "log_time = epochs/50                       # 總共會記錄 5 次 loss \n",
    "lr = 0.1                                   # lr 是學習率\n",
    "\n",
    "for i in range(epochs + 1):\n",
    "    \n",
    "    y_ = x * w_ + b_                    # 利用 w_ 計算新的 y_\n",
    "\n",
    "    loss = ((y - y_)**2).mean()    # 利用 Mean Suqre Error 計算 Loss\n",
    "    \n",
    "    loss.backward()                # 丟進反向傳遞獲得梯度\n",
    "    \n",
    "    with torch.no_grad():          # 避免計算圖追蹤導數，也可以減少運算量\n",
    "        \n",
    "        w_ -= lr * w_.grad         # 更新權重值\n",
    "        b_ -= lr * b_.grad\n",
    "        \n",
    "        w_.grad.zero_()            # 清空梯度，也是避免重複計算\n",
    "        b_.grad.zero_()\n",
    "        \n",
    "        if(i%log_time==0):                # 每 5 次 印出 loss 跟 w_ 的狀況\n",
    "            \n",
    "            print('[{:>02}/{}] loss:{:5.3f} \\t w_:{} \\t b_:{}'.format(i,epochs,\n",
    "                                                               loss.data,\n",
    "                                                               w_.data,\n",
    "                                                               b_.data))    # {:5.3f} 總寬度 5 小數點後 3 位\n",
    "            ''' 畫圖 '''\n",
    "            data = plt.plot(x_, x_ * w_.detach() + b_.detach() , attributes[1])    # 畫出曲線\n",
    "            imgs.append(data)\n",
    "\n",
    "ani = animation.ArtistAnimation(fig, imgs, interval=10, blit=True,\n",
    "                                repeat_delay=1000)\n",
    "\n",
    "ani.save(\"linear_regression_example.gif\",writer='pillow')"
   ]
  },
  {
   "cell_type": "code",
   "execution_count": null,
   "metadata": {},
   "outputs": [],
   "source": []
  }
 ],
 "metadata": {
  "kernelspec": {
   "display_name": "Python 3",
   "language": "python",
   "name": "python3"
  },
  "language_info": {
   "codemirror_mode": {
    "name": "ipython",
    "version": 3
   },
   "file_extension": ".py",
   "mimetype": "text/x-python",
   "name": "python",
   "nbconvert_exporter": "python",
   "pygments_lexer": "ipython3",
   "version": "3.7.7"
  }
 },
 "nbformat": 4,
 "nbformat_minor": 4
}
