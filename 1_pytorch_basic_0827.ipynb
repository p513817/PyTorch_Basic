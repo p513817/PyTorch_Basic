{
 "cells": [
  {
   "cell_type": "code",
   "execution_count": 1,
   "metadata": {},
   "outputs": [
    {
     "name": "stdout",
     "output_type": "stream",
     "text": [
      "LIB VERSION:\n",
      "\n",
      "torch      | numpy      | matplotlib\n",
      "1.1.0a0+b457266 | 1.18.1     | 3.3.1     \n"
     ]
    }
   ],
   "source": [
    "import torch\n",
    "import numpy as np\n",
    "import matplotlib as mpl\n",
    "\n",
    "print('LIB VERSION:\\n')\n",
    "\n",
    "print(\"{:10} | {:10} | {:10}\".format('torch', 'numpy', 'matplotlib'))\n",
    "print(\"{:10} | {:10} | {:10}\".format(torch.__version__, np.__version__, mpl.__version__))"
   ]
  },
  {
   "cell_type": "code",
   "execution_count": 2,
   "metadata": {},
   "outputs": [
    {
     "name": "stdout",
     "output_type": "stream",
     "text": [
      "PYTORCH INFO \n",
      "VERSION:1.1.0a0+b457266 , CUDA:10.0.117\n"
     ]
    }
   ],
   "source": [
    "print(\"PYTORCH INFO \\nVERSION:{} , CUDA:{}\".format(torch.__version__, torch.version.cuda))"
   ]
  },
  {
   "cell_type": "code",
   "execution_count": 3,
   "metadata": {},
   "outputs": [
    {
     "name": "stdout",
     "output_type": "stream",
     "text": [
      "Example: \n",
      "\n",
      "tensor([[1., 1.],\n",
      "        [1., 1.],\n",
      "        [1., 1.]])\n",
      "\n",
      "tensor([[0., 0., 0.]])\n",
      "\n",
      "tensor([[0.8557, 0.0408, 0.1035]])\n",
      "\n",
      "tensor([[ 2.2848, -0.6487,  0.2477, -0.7475, -0.7630]])\n"
     ]
    }
   ],
   "source": [
    "# 宣告 Tensor\n",
    "val_1 = torch.Tensor([[1,1],[1,1],[1,1]])\n",
    "\n",
    "# 宣告一個維度 1 x 3 的矩陣，數值都為 0\n",
    "val_2 = torch.zeros(1,3)     \n",
    "\n",
    "# 宣告一個維度 1 x 3 的矩陣，數值為 0 ~ 1 之間亂數 \n",
    "val_3 = torch.rand(1,3)    \n",
    "\n",
    "# 宣告一個維度 1 x 5 的矩陣，數值為 高斯分佈 的亂數 \n",
    "val_4 = torch.randn(1,5)\n",
    "\n",
    "# 印出來\n",
    "print(\"Example: \\n\\n{}\\n\\n{}\\n\\n{}\\n\\n{}\".format(val_1, val_2, val_3, val_4))\n"
   ]
  },
  {
   "cell_type": "code",
   "execution_count": 4,
   "metadata": {},
   "outputs": [
    {
     "name": "stdout",
     "output_type": "stream",
     "text": [
      "Numpy: [2 2 2] , <class 'numpy.ndarray'>\n",
      "\n",
      "Np to Tensor: tensor([2, 2, 2]) , <class 'torch.Tensor'>\n",
      "\n",
      "Tensor to Np: [2 2 2] , <class 'numpy.ndarray'>\n",
      "\n"
     ]
    }
   ],
   "source": [
    "# 從 Numpy 轉換成 Tensor，從 Tensor 轉成 Numpy\n",
    "numpy = np.array([2,2,2])\n",
    "tensor = torch.tensor(numpy)\n",
    "tensor2np = tensor.numpy()\n",
    "\n",
    "print(\"Numpy: {} , {}\\n\".format(numpy, type(numpy)))\n",
    "print(\"Np to Tensor: {} , {}\\n\".format(tensor, type(tensor)))\n",
    "print(\"Tensor to Np: {} , {}\\n\".format(tensor2np,  type(tensor2np)))"
   ]
  },
  {
   "cell_type": "code",
   "execution_count": 5,
   "metadata": {},
   "outputs": [],
   "source": [
    "# 將 Tensor 丟進 GPU 訓練\n",
    "tensor_gpu_1 = tensor.cuda()\n",
    "tensor_gpu_2 = tensor.to('cuda')\n",
    "\n",
    "# 將 Tensor 丟回 CPU 訓練\n",
    "tensor_cpu_1 = tensor_gpu_1.cpu()\n",
    "tensor_cpu_2 = tensor.to('cpu')\n",
    "\n",
    "# 從 GPU 中取得 Tensor 並轉成 Numpy\n",
    "np_from_gpu = tensor_gpu_1.cpu().numpy()"
   ]
  },
  {
   "cell_type": "code",
   "execution_count": 6,
   "metadata": {},
   "outputs": [
    {
     "name": "stdout",
     "output_type": "stream",
     "text": [
      "x     = tensor([[0.9994, 0.5840, 0.5448, 0.1120, 0.5524, 0.5405]])\n",
      "y     = tensor([[0.3429, 0.4261, 0.4365, 0.4284, 0.4242, 0.8264]])\n",
      "\n",
      "x+y   = tensor([[1.3423, 1.0101, 0.9813, 0.5405, 0.9766, 1.3669]]) \n",
      "\n",
      "x-y   = tensor([[ 0.6566,  0.1580,  0.1083, -0.3164,  0.1282, -0.2859]]) \n",
      "\n",
      "x*y   = tensor([[0.3427, 0.2489, 0.2378, 0.0480, 0.2343, 0.4467]]) \n",
      "\n",
      "x/y   = tensor([[2.9150, 1.3707, 1.2480, 0.2615, 1.3021, 0.6540]]) \n",
      "\n"
     ]
    }
   ],
   "source": [
    "# 基本數學計算\n",
    "x = torch.rand(1,6)\n",
    "y = torch.rand(1,6)\n",
    "\n",
    "print(\"{:5} = {}\\n{:5} = {}\\n\".format('x', x, 'y', y))\n",
    "print(\"{:5} = {} \\n\".format('x+y', x+y))\n",
    "print(\"{:5} = {} \\n\".format('x-y', x-y))\n",
    "print(\"{:5} = {} \\n\".format('x*y', x*y))\n",
    "print(\"{:5} = {} \\n\".format('x/y', x/y))"
   ]
  },
  {
   "cell_type": "code",
   "execution_count": 7,
   "metadata": {},
   "outputs": [
    {
     "name": "stdout",
     "output_type": "stream",
     "text": [
      "x shape    : torch.Size([1, 6])\n",
      "y shape    : torch.Size([1, 6])\n",
      "\n",
      "horizontal : torch.Size([2, 6])\n",
      "vertical   : torch.Size([1, 12])\n",
      "\n",
      "x reshape  : torch.Size([2, 3])\n",
      "y reshape  : torch.Size([6, 1])\n",
      "y reshape2 : torch.Size([3, 2])\n",
      "\n"
     ]
    }
   ],
   "source": [
    "cat_hor = torch.cat([x,y])        # 垂直合併\n",
    "cat_ver = torch.cat([x,y], 1)     # 水平合併\n",
    "x_reshape = x.view(2,3)           # 將 x 塑形成 (2,3)\n",
    "y_reshape = y.view(6,1)           # 將 y 塑形成 (6,1)\n",
    "y_reshape_2 = y.view(-1,2)        # 將 y 塑形成 (任意大小,2)\n",
    "\n",
    "print(\"x shape    : {}\\ny shape    : {}\\n\".format(x.size(), y.size()))\n",
    "\n",
    "print(\"horizontal : {}\".format(cat_hor.shape))\n",
    "print(\"vertical   : {}\\n\".format(cat_ver.shape))\n",
    "\n",
    "print(\"x reshape  : {}\".format(x_reshape.shape))\n",
    "print(\"y reshape  : {}\".format(y_reshape.shape))\n",
    "print(\"y reshape2 : {}\\n\".format(y_reshape_2.shape))"
   ]
  },
  {
   "cell_type": "code",
   "execution_count": 8,
   "metadata": {},
   "outputs": [
    {
     "name": "stdout",
     "output_type": "stream",
     "text": [
      "a : \n",
      "tensor([[0.2961, 0.1200, 0.1098, 0.4314, 0.0291],\n",
      "        [0.3435, 0.2825, 0.6572, 0.5949, 0.1462]])\n",
      "\n",
      "[1] a shape     : torch.Size([2, 5])\n",
      "[2] find max    : 0.6571745872497559\n",
      "[3] sum dim=0   : tensor([0.6396, 0.4024, 0.7670, 1.0262, 0.1753])\n",
      "[4] sum dim=1   : tensor([0.9864, 2.0242])\n",
      "[5] get mean    : 0.30106237530708313\n",
      "[6] L2  norm    : 1.1427818536758423\n"
     ]
    }
   ],
   "source": [
    "a = torch.rand(2,5)                # 宣告一個維度 2 x 5 的張量\n",
    "a_max = torch.max(a)               # 尋找其張量最大數值\n",
    "a_sum_hor = torch.sum(a, dim=1)    # 水平維度做相加\n",
    "a_sum_ver = torch.sum(a, dim=0)    # 垂直維度做相加\n",
    "a_mean = torch.mean(a)             # 取平均值\n",
    "a_norm = torch.norm(a)             # 求範數。預設是 L2，公式為「平方合開根號」\n",
    "\n",
    "print(\"{} : \\n{}\\n\".format('a' , a))\n",
    "print(\"{:15} : {}\".format('[1] a shape' , a.size()))\n",
    "print(\"{:15} : {}\".format('[2] find max' , a_max))\n",
    "print(\"{:15} : {}\".format('[3] sum dim=0' , a_sum_ver))\n",
    "print(\"{:15} : {}\".format('[4] sum dim=1' , a_sum_hor))\n",
    "print(\"{:15} : {}\".format('[5] get mean' , a_mean))\n",
    "print(\"{:15} : {}\".format('[6] L2  norm' , a_norm))\n"
   ]
  },
  {
   "cell_type": "code",
   "execution_count": 9,
   "metadata": {},
   "outputs": [
    {
     "name": "stdout",
     "output_type": "stream",
     "text": [
      "tensor(3.)\n",
      "tensor(3., requires_grad=True)\n",
      "tensor(3.)\n"
     ]
    }
   ],
   "source": [
    "a = torch.tensor(3.)  # 記得張量必須是float\n",
    "a_grad = torch.tensor(3., requires_grad=True)\n",
    "a_no_grad = torch.tensor(3., requires_grad=False)\n",
    "\n",
    "print(a)\n",
    "print(a_grad)\n",
    "print(a_no_grad)"
   ]
  },
  {
   "cell_type": "code",
   "execution_count": 10,
   "metadata": {},
   "outputs": [
    {
     "name": "stdout",
     "output_type": "stream",
     "text": [
      "tensor(10.)\n"
     ]
    }
   ],
   "source": [
    "import torch \n",
    "\n",
    "x = torch.tensor(5., requires_grad = True)\n",
    "\n",
    "y = 10*x + 5\n",
    "\n",
    "y.backward()\n",
    "\n",
    "print(x.grad)"
   ]
  },
  {
   "cell_type": "code",
   "execution_count": 11,
   "metadata": {
    "scrolled": true
   },
   "outputs": [
    {
     "name": "stdout",
     "output_type": "stream",
     "text": [
      "PyTorch計算的BP : -18.0\n",
      "實際上的BP : -18.0\n"
     ]
    }
   ],
   "source": [
    "import torch \n",
    "\n",
    "def func(a):\n",
    "    w1 = torch.tensor(3., requires_grad = True)\n",
    "    w2 = torch.tensor(3., requires_grad = True)\n",
    "    w3 = torch.tensor(3., requires_grad = True)\n",
    "    w4 = torch.tensor(3., requires_grad = True)\n",
    "\n",
    "    b = w1*a \n",
    "    c = w2*a\n",
    "    d = w3*b + w4*c \n",
    "    L = (10 - d)\n",
    "    \n",
    "    true_bp = -1 * (w1*w3*1 + w2*w4*1)\n",
    "    \n",
    "    return L, true_bp\n",
    "\n",
    "a = torch.tensor(5., requires_grad = True)\n",
    "\n",
    "L, true_backward = func(a)\n",
    "L.backward()\n",
    "print('PyTorch計算的BP : {}\\n實際上的BP : {}'.format(a.grad, true_backward))"
   ]
  },
  {
   "cell_type": "code",
   "execution_count": 12,
   "metadata": {},
   "outputs": [
    {
     "name": "stdout",
     "output_type": "stream",
     "text": [
      "torch.Size([20, 1]) torch.Size([20, 1])\n"
     ]
    },
    {
     "data": {
      "image/png": "[encoded data removed]",
      "text/plain": [
       "<Figure size 600x400 with 1 Axes>"
      ]
     },
     "metadata": {
      "needs_background": "light"
     },
     "output_type": "display_data"
    }
   ],
   "source": [
    "import torch\n",
    "import numpy as np\n",
    "import matplotlib.pyplot as plt\n",
    "\n",
    "''' 設定好 輸入、權重、輸出 '''\n",
    "x = torch.unsqueeze(torch.linspace(-1, 1, 20), 1)    # 設定 10個點介於 -1~1 之間並將維度增加 [10] -> [10,1]\n",
    "w = torch.tensor([10.])         # 固定 w 為 ground truth\n",
    "b = torch.tensor([3.])          # 固定 b 為 ground truth\n",
    "y = w * x + b + torch.randn(x.shape)*0.4             # 簡單的線性方程，取得 10 個點的 y 座標 再加上一點雜訊\n",
    "\n",
    "print(x.shape, y.shape)\n",
    "\n",
    "''' 畫圖 '''\n",
    "plt.figure(dpi=100)    # 宣告一個圖片 dpi 設為 100\n",
    "plt.scatter(x, y, color= 'r')    # 將正確答案先畫出來標示為紅色\n",
    "plt.show()"
   ]
  },
  {
   "cell_type": "code",
   "execution_count": 23,
   "metadata": {
    "scrolled": false
   },
   "outputs": [
    {
     "name": "stdout",
     "output_type": "stream",
     "text": [
      "[00/50] loss:53.501 \t w_:tensor([1.3916]) \t b_:tensor([-0.7670])\n",
      "[10/50] loss:6.966 \t w_:tensor([5.8930]) \t b_:tensor([2.6551])\n",
      "[20/50] loss:1.548 \t w_:tensor([7.9869]) \t b_:tensor([3.0226])\n",
      "[30/50] loss:0.429 \t w_:tensor([8.9608]) \t b_:tensor([3.0621])\n",
      "[40/50] loss:0.188 \t w_:tensor([9.4139]) \t b_:tensor([3.0663])\n",
      "[50/50] loss:0.136 \t w_:tensor([9.6246]) \t b_:tensor([3.0667])\n"
     ]
    },
    {
     "data": {
      "image/png": "[encoded data removed]",
      "text/plain": [
       "<Figure size 600x400 with 1 Axes>"
      ]
     },
     "metadata": {
      "needs_background": "light"
     },
     "output_type": "display_data"
    }
   ],
   "source": [
    "import torch\n",
    "import numpy as np\n",
    "import matplotlib.pyplot as plt\n",
    "\n",
    "''' 畫圖 '''\n",
    "plt.figure(dpi=100)    # 宣告一個圖片 dpi 設為 100\n",
    "plt.scatter(x, y, color= 'r')    # 將正確答案先畫出來標示為紅色\n",
    "attributes = ['--k','--b','--c','--m','--y','--g', '--r']    # 顏色線條參數\n",
    "\n",
    "''' 初始化參數 '''\n",
    "x_ = torch.randn(10,1)                     # 宣告一組新的 x_ 等等來拿預測用\n",
    "w_ = torch.randn(1, requires_grad=True)    # 隨機產生 w_ 讓神經網路訓練，目的是找到正確的數值\n",
    "b_ = torch.randn(1, requires_grad=True)    # 隨機產生 b_ 讓神經網路訓練，目的是找到正確的數值\n",
    "\n",
    "epochs = 50                                # 總共跑 N 次迭代\n",
    "log_time = epochs/5                        # 總共會記錄 5 次 loss \n",
    "lr = 0.1                                   # lr 是學習率\n",
    "\n",
    "for i in range(epochs + 1):\n",
    "    \n",
    "    y_ = x * w_ + b_                    # 利用 w_ 計算新的 y_\n",
    "\n",
    "    loss = ((y - y_)**2).mean()    # 利用 Mean Suqre Error 計算 Loss\n",
    "    \n",
    "    loss.backward()                # 丟進反向傳遞獲得梯度\n",
    "    \n",
    "    with torch.no_grad():          # 避免計算圖追蹤導數，也可以減少運算量\n",
    "        \n",
    "        w_ -= lr * w_.grad         # 更新權重值\n",
    "        b_ -= lr * b_.grad\n",
    "        \n",
    "        w_.grad.zero_()            # 清空梯度，也是避免重複計算\n",
    "        b_.grad.zero_()\n",
    "        \n",
    "        if(i%log_time==0):                # 每 5 次 印出 loss 跟 w_ 的狀況\n",
    "            \n",
    "            print('[{:>02}/{}] loss:{:5.3f} \\t w_:{} \\t b_:{}'.format(i,epochs,\n",
    "                                                               loss.data,\n",
    "                                                               w_.data,\n",
    "                                                               b_.data))    # {:5.3f} 總寬度 5 小數點後 3 位\n",
    "            \n",
    "            plt.plot(x_.detach().numpy(), (x_* w_ + b_).detach().numpy() , attributes[int(i/log_time)], label=str(i))    # 畫出曲線\n",
    "\n",
    "plt.legend(loc='best')    # 自動調整最佳位置\n",
    "plt.show()"
   ]
  },
  {
   "cell_type": "markdown",
   "metadata": {},
   "source": [
    "# 動畫"
   ]
  },
  {
   "cell_type": "code",
   "execution_count": null,
   "metadata": {},
   "outputs": [
    {
     "name": "stdout",
     "output_type": "stream",
     "text": [
      "[00/50] loss:40.134 \t w_:tensor([1.0915]) \t b_:tensor([0.8917])\n",
      "[01/50] loss:32.843 \t w_:tensor([1.7337]) \t b_:tensor([1.3268])\n",
      "[02/50] loss:27.167 \t w_:tensor([2.3287]) \t b_:tensor([1.6748])\n",
      "[03/50] loss:22.668 \t w_:tensor([2.8798]) \t b_:tensor([1.9532])\n",
      "[04/50] loss:19.045 \t w_:tensor([3.3903]) \t b_:tensor([2.1759])\n",
      "[05/50] loss:16.089 \t w_:tensor([3.8631]) \t b_:tensor([2.3541])\n",
      "[06/50] loss:13.649 \t w_:tensor([4.3012]) \t b_:tensor([2.4966])\n",
      "[07/50] loss:11.618 \t w_:tensor([4.7069]) \t b_:tensor([2.6107])\n",
      "[08/50] loss:9.915 \t w_:tensor([5.0828]) \t b_:tensor([2.7019])\n",
      "[09/50] loss:8.480 \t w_:tensor([5.4309]) \t b_:tensor([2.7749])\n",
      "[10/50] loss:7.264 \t w_:tensor([5.7534]) \t b_:tensor([2.8333])\n",
      "[11/50] loss:6.232 \t w_:tensor([6.0522]) \t b_:tensor([2.8800])\n",
      "[12/50] loss:5.353 \t w_:tensor([6.3289]) \t b_:tensor([2.9173])\n",
      "[13/50] loss:4.603 \t w_:tensor([6.5853]) \t b_:tensor([2.9472])\n",
      "[14/50] loss:3.962 \t w_:tensor([6.8227]) \t b_:tensor([2.9711])\n",
      "[15/50] loss:3.413 \t w_:tensor([7.0427]) \t b_:tensor([2.9903])\n",
      "[16/50] loss:2.944 \t w_:tensor([7.2464]) \t b_:tensor([3.0056])\n",
      "[17/50] loss:2.542 \t w_:tensor([7.4352]) \t b_:tensor([3.0178])\n",
      "[18/50] loss:2.198 \t w_:tensor([7.6100]) \t b_:tensor([3.0276])\n",
      "[19/50] loss:1.903 \t w_:tensor([7.7719]) \t b_:tensor([3.0355])\n",
      "[20/50] loss:1.649 \t w_:tensor([7.9219]) \t b_:tensor([3.0417])\n",
      "[21/50] loss:1.432 \t w_:tensor([8.0609]) \t b_:tensor([3.0467])\n",
      "[22/50] loss:1.246 \t w_:tensor([8.1896]) \t b_:tensor([3.0508])\n",
      "[23/50] loss:1.086 \t w_:tensor([8.3089]) \t b_:tensor([3.0540])\n",
      "[24/50] loss:0.949 \t w_:tensor([8.4193]) \t b_:tensor([3.0565])\n",
      "[25/50] loss:0.832 \t w_:tensor([8.5216]) \t b_:tensor([3.0586])\n",
      "[26/50] loss:0.731 \t w_:tensor([8.6164]) \t b_:tensor([3.0602])\n",
      "[27/50] loss:0.644 \t w_:tensor([8.7042]) \t b_:tensor([3.0615])\n",
      "[28/50] loss:0.570 \t w_:tensor([8.7855]) \t b_:tensor([3.0626])\n",
      "[29/50] loss:0.506 \t w_:tensor([8.8608]) \t b_:tensor([3.0634])\n",
      "[30/50] loss:0.452 \t w_:tensor([8.9306]) \t b_:tensor([3.0641])\n",
      "[31/50] loss:0.405 \t w_:tensor([8.9953]) \t b_:tensor([3.0646])\n",
      "[32/50] loss:0.365 \t w_:tensor([9.0551]) \t b_:tensor([3.0651])\n",
      "[33/50] loss:0.330 \t w_:tensor([9.1106]) \t b_:tensor([3.0654])\n",
      "[34/50] loss:0.300 \t w_:tensor([9.1620]) \t b_:tensor([3.0657])\n",
      "[35/50] loss:0.275 \t w_:tensor([9.2096]) \t b_:tensor([3.0659])\n",
      "[36/50] loss:0.253 \t w_:tensor([9.2536]) \t b_:tensor([3.0661])\n",
      "[37/50] loss:0.234 \t w_:tensor([9.2945]) \t b_:tensor([3.0662])\n",
      "[38/50] loss:0.218 \t w_:tensor([9.3323]) \t b_:tensor([3.0664])\n",
      "[39/50] loss:0.205 \t w_:tensor([9.3673]) \t b_:tensor([3.0664])\n",
      "[40/50] loss:0.193 \t w_:tensor([9.3998]) \t b_:tensor([3.0665])\n",
      "[41/50] loss:0.183 \t w_:tensor([9.4299]) \t b_:tensor([3.0666])\n",
      "[42/50] loss:0.174 \t w_:tensor([9.4577]) \t b_:tensor([3.0666])\n",
      "[43/50] loss:0.166 \t w_:tensor([9.4835]) \t b_:tensor([3.0667])\n",
      "[44/50] loss:0.160 \t w_:tensor([9.5074]) \t b_:tensor([3.0667])\n",
      "[45/50] loss:0.155 \t w_:tensor([9.5295]) \t b_:tensor([3.0667])\n",
      "[46/50] loss:0.150 \t w_:tensor([9.5501]) \t b_:tensor([3.0667])\n",
      "[47/50] loss:0.146 \t w_:tensor([9.5690]) \t b_:tensor([3.0667])\n",
      "[48/50] loss:0.142 \t w_:tensor([9.5866]) \t b_:tensor([3.0668])\n",
      "[49/50] loss:0.139 \t w_:tensor([9.6029]) \t b_:tensor([3.0668])\n",
      "[50/50] loss:0.137 \t w_:tensor([9.6180]) \t b_:tensor([3.0668])\n"
     ]
    }
   ],
   "source": [
    "import torch\n",
    "import numpy as np\n",
    "import matplotlib.pyplot as plt\n",
    "import matplotlib.animation as animation\n",
    "\n",
    "''' gif 用'''\n",
    "fig = plt.figure(dpi=150)    # 宣告一個圖片 dpi 設為 100\n",
    "plt.scatter(x, y, color= 'r')    # 將正確答案先畫出來標示為紅色\n",
    "attributes = ['--k','--b','--c','--m','--y','--g', '--r']    # 顏色線條參數\n",
    "imgs=[]\n",
    "\n",
    "''' 初始化參數 '''\n",
    "x_ = torch.unsqueeze(torch.linspace(-1,1,10), 1)         # 宣告一組新的 x_ 等等來拿預測用\n",
    "w_ = torch.randn(1, requires_grad=True)    # 隨機產生 w_ 讓神經網路訓練，目的是找到正確的數值\n",
    "b_ = torch.randn(1, requires_grad=True)    # 隨機產生 b_ 讓神經網路訓練，目的是找到正確的數值\n",
    "\n",
    "epochs = 50                                # 總共跑 N 次迭代\n",
    "log_time = epochs/50                       # 總共會記錄 5 次 loss \n",
    "lr = 0.1                                   # lr 是學習率\n",
    "\n",
    "for i in range(epochs + 1):\n",
    "    \n",
    "    y_ = x * w_ + b_                    # 利用 w_ 計算新的 y_\n",
    "\n",
    "    loss = ((y - y_)**2).mean()    # 利用 Mean Suqre Error 計算 Loss\n",
    "    \n",
    "    loss.backward()                # 丟進反向傳遞獲得梯度\n",
    "    \n",
    "    with torch.no_grad():          # 避免計算圖追蹤導數，也可以減少運算量\n",
    "        \n",
    "        w_ -= lr * w_.grad         # 更新權重值\n",
    "        b_ -= lr * b_.grad\n",
    "        \n",
    "        w_.grad.zero_()            # 清空梯度，也是避免重複計算\n",
    "        b_.grad.zero_()\n",
    "        \n",
    "        if(i%log_time==0):                # 每 5 次 印出 loss 跟 w_ 的狀況\n",
    "            \n",
    "            print('[{:>02}/{}] loss:{:5.3f} \\t w_:{} \\t b_:{}'.format(i,epochs,\n",
    "                                                               loss.data,\n",
    "                                                               w_.data,\n",
    "                                                               b_.data))    # {:5.3f} 總寬度 5 小數點後 3 位\n",
    "            ''' 畫圖 '''\n",
    "            data = plt.plot(x_.detach().numpy(), (x_ * w_ + b_).detach().numpy() , attributes[1])    # 畫出曲線\n",
    "            imgs.append(data)\n",
    "\n",
    "ani = animation.ArtistAnimation(fig, imgs, interval=10, blit=True,\n",
    "                                repeat_delay=1000)\n",
    "\n",
    "ani.save(\"linear_regression_example.gif\",writer='pillow')"
   ]
  },
  {
   "cell_type": "code",
   "execution_count": null,
   "metadata": {},
   "outputs": [],
   "source": []
  }
 ],
 "metadata": {
  "kernelspec": {
   "display_name": "Python 3",
   "language": "python",
   "name": "python3"
  },
  "language_info": {
   "codemirror_mode": {
    "name": "ipython",
    "version": 3
   },
   "file_extension": ".py",
   "mimetype": "text/x-python",
   "name": "python",
   "nbconvert_exporter": "python",
   "pygments_lexer": "ipython3",
   "version": "3.7.9"
  }
 },
 "nbformat": 4,
 "nbformat_minor": 4
}
